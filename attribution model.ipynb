{
 "cells": [
  {
   "cell_type": "code",
   "execution_count": 1,
   "metadata": {
    "collapsed": false
   },
   "outputs": [
    {
     "name": "stderr",
     "output_type": "stream",
     "text": [
      "//anaconda/lib/python3.5/site-packages/pandas/computation/__init__.py:19: UserWarning: The installed version of numexpr 2.4.4 is not supported in pandas and will be not be used\n",
      "\n",
      "  UserWarning)\n"
     ]
    }
   ],
   "source": [
    "import numpy as np\n",
    "import pandas as pd\n",
    "from collections import defaultdict\n",
    "import networkx as nx\n",
    "import seaborn as sns\n",
    "import matplotlib.pyplot as plt\n",
    "import re"
   ]
  },
  {
   "cell_type": "code",
   "execution_count": null,
   "metadata": {
    "collapsed": true
   },
   "outputs": [],
   "source": [
    "def stable(rankings, A, B):\n",
    "    r\"\"\"\n",
    "    rankings[(a, n)] = partner that a ranked n^th\n",
    "    >>> from itertools import product\n",
    "    >>> A = ['1','2','3','4','5','6']\n",
    "    >>> B = ['a','b','c','d','e','f']\n",
    "    >>> rank = dict()\n",
    "    >>> rank['1'] = (1,4,2,6,5,3)\n",
    "    >>> rank['2'] = (3,1,2,4,5,6)\n",
    "    >>> rank['3'] = (1,2,4,3,5,6)\n",
    "    >>> rank['4'] = (4,1,2,5,3,6)\n",
    "    >>> rank['5'] = (1,2,3,6,4,5)\n",
    "    >>> rank['6'] = (2,1,4,3,5,6)\n",
    "    >>> rank['a'] = (1,2,3,4,5,6)\n",
    "    >>> rank['b'] = (2,1,4,3,5,6)\n",
    "    >>> rank['c'] = (5,1,6,3,2,4)\n",
    "    >>> rank['d'] = (1,3,2,5,4,6)\n",
    "    >>> rank['e'] = (4,1,3,6,2,5)\n",
    "    >>> rank['f'] = (2,1,4,3,6,5)\n",
    "    >>> Arankings = dict(((a, rank[a][b_]), B[b_]) for (a, b_) in product(A, range(0, 6)))\n",
    "    >>> Brankings = dict(((b, rank[b][a_]), A[a_]) for (b, a_) in product(B, range(0, 6)))\n",
    "    >>> rankings = Arankings\n",
    "    >>> rankings.update(Brankings)\n",
    "    >>> stable(rankings, A, B)\n",
    "    [('1', 'a'), ('2', 'b'), ('3', 'd'), ('4', 'f'), ('5', 'c'), ('6', 'e')]\n",
    "    \"\"\"\n",
    "    partners = dict((a, (rankings[(a, 1)], 1)) for a in A)\n",
    "    is_stable = False # whether the current pairing (given by `partners`) is stable\n",
    "    while is_stable == False:\n",
    "        is_stable = True\n",
    "        for b in B:\n",
    "            is_paired = False # whether b has a pair which b ranks <= to n\n",
    "            for n in range(1, len(B) + 1):\n",
    "                a = rankings[(b, n)]\n",
    "                a_partner, a_n = partners[a]\n",
    "                if a_partner == b:\n",
    "                    if is_paired:\n",
    "                        is_stable = False\n",
    "                        partners[a] = (rankings[(a, a_n + 1)], a_n + 1)\n",
    "                    else:\n",
    "                        is_paired = True\n",
    "    return sorted((a, b) for (a, (b, n)) in partners.items())"
   ]
  },
  {
   "cell_type": "code",
   "execution_count": 2,
   "metadata": {
    "collapsed": true
   },
   "outputs": [],
   "source": [
    "def create_path(element):\n",
    "    path=[]\n",
    "    path.append('start')\n",
    "    \n",
    "    visits = element[1]\n",
    "    visits = sorted(visits,key=lambda x:x[3])\n",
    "    \n",
    "    channels = [x[1] for x in visits]\n",
    "    for channel in channels:\n",
    "        path.append(channel)\n",
    "    \n",
    "    conversion = sum([x[2] for x in visits])>0\n",
    "    if conversion:\n",
    "        path.append('conversion')\n",
    "    else:\n",
    "        path.append('null')\n",
    "        \n",
    "    return path"
   ]
  },
  {
   "cell_type": "code",
   "execution_count": 3,
   "metadata": {
    "collapsed": true
   },
   "outputs": [],
   "source": [
    "def create_path_with_value(element):\n",
    "    path=[]\n",
    "    path.append('start')\n",
    "    \n",
    "    visits = element[1]\n",
    "    visits = sorted(visits,key=lambda x:x[3])\n",
    "    \n",
    "    channels = [x[1] for x in visits]\n",
    "    for channel in channels:\n",
    "        path.append(channel)\n",
    "    \n",
    "    conversion = sum([x[2] for x in visits])>0\n",
    "    if conversion:\n",
    "        path.append('conversion')\n",
    "    else:\n",
    "        path.append('null')\n",
    "    \n",
    "    value = sum([x[4] for x in visits])\n",
    "    path.append(str(value))\n",
    "    \n",
    "        \n",
    "    return path "
   ]
  },
  {
   "cell_type": "code",
   "execution_count": 4,
   "metadata": {
    "collapsed": true
   },
   "outputs": [],
   "source": [
    "def create_last_click_stats_pair(element):\n",
    "    visits = element[1]\n",
    "    visits = sorted(visits,key=lambda x:x[3],reverse=True)\n",
    "    \n",
    "    conversion = sum(x[2] for x in visits)>0\n",
    "    if conversion:\n",
    "        result = []\n",
    "        channel = visits[0][1]\n",
    "        value = sum(x[4] for x in visits)\n",
    "        result.append((channel,value))\n",
    "        return result\n",
    "    else:\n",
    "        return []"
   ]
  },
  {
   "cell_type": "code",
   "execution_count": 5,
   "metadata": {
    "collapsed": true
   },
   "outputs": [],
   "source": [
    "def create_first_order_states_pair(path):\n",
    "    if len(path)<3:\n",
    "        return []\n",
    "    else:\n",
    "        result = []\n",
    "        \n",
    "        for i in range(0,len(path)-1):\n",
    "            from_state = path[i]\n",
    "            to_state = path[i+1]\n",
    "            result.append(((from_state,to_state),1))\n",
    "        \n",
    "        return result"
   ]
  },
  {
   "cell_type": "code",
   "execution_count": 6,
   "metadata": {
    "collapsed": true
   },
   "outputs": [],
   "source": [
    "def create_first_order_states_pair_with_value(path):\n",
    "    if len(path)<3:\n",
    "        return []\n",
    "    else:\n",
    "        result = []\n",
    "        value = float(path[-1])\n",
    "        for i in range(0,len(path)-2):\n",
    "            from_state = path[i]\n",
    "            to_state = path[i+1]\n",
    "            result.append(((from_state,to_state),value))\n",
    "        \n",
    "        return result   "
   ]
  },
  {
   "cell_type": "code",
   "execution_count": 7,
   "metadata": {
    "collapsed": true
   },
   "outputs": [],
   "source": [
    "channels = [\"banner\",\"text\",\"keyword\",\"link\",\"video\",\"mobile\",'unknown']"
   ]
  },
  {
   "cell_type": "code",
   "execution_count": 8,
   "metadata": {
    "collapsed": true
   },
   "outputs": [],
   "source": [
    "channels_dict = {'01':'banner',\n",
    "                 '02':'text',\n",
    "                 '06':'keyword',\n",
    "                 '07':'link',\n",
    "                 '08':'video',\n",
    "                 '09':'mobile',\n",
    "                 '10':'mobile',\n",
    "                 '11':'mobile'}"
   ]
  },
  {
   "cell_type": "code",
   "execution_count": 9,
   "metadata": {
    "collapsed": true
   },
   "outputs": [],
   "source": [
    "columns = channels.copy()"
   ]
  },
  {
   "cell_type": "code",
   "execution_count": 11,
   "metadata": {
    "collapsed": false
   },
   "outputs": [
    {
     "data": {
      "text/plain": [
       "['start', 'banner', 'text', 'keyword', 'link', 'video', 'mobile', 'unknown']"
      ]
     },
     "execution_count": 11,
     "metadata": {},
     "output_type": "execute_result"
    }
   ],
   "source": [
    "columns.insert(0,\"start\")\n",
    "columns"
   ]
  },
  {
   "cell_type": "code",
   "execution_count": 12,
   "metadata": {
    "collapsed": true
   },
   "outputs": [],
   "source": [
    "columns.append(\"null\")"
   ]
  },
  {
   "cell_type": "code",
   "execution_count": 13,
   "metadata": {
    "collapsed": false
   },
   "outputs": [
    {
     "data": {
      "text/plain": [
       "['start',\n",
       " 'banner',\n",
       " 'text',\n",
       " 'keyword',\n",
       " 'link',\n",
       " 'video',\n",
       " 'mobile',\n",
       " 'unknown',\n",
       " 'null']"
      ]
     },
     "execution_count": 13,
     "metadata": {},
     "output_type": "execute_result"
    }
   ],
   "source": [
    "columns"
   ]
  },
  {
   "cell_type": "code",
   "execution_count": 14,
   "metadata": {
    "collapsed": true
   },
   "outputs": [],
   "source": [
    "columns.append(\"conversion\")"
   ]
  },
  {
   "cell_type": "code",
   "execution_count": 15,
   "metadata": {
    "collapsed": false
   },
   "outputs": [
    {
     "data": {
      "text/plain": [
       "['start',\n",
       " 'banner',\n",
       " 'text',\n",
       " 'keyword',\n",
       " 'link',\n",
       " 'video',\n",
       " 'mobile',\n",
       " 'unknown',\n",
       " 'null',\n",
       " 'conversion']"
      ]
     },
     "execution_count": 15,
     "metadata": {},
     "output_type": "execute_result"
    }
   ],
   "source": [
    "columns"
   ]
  },
  {
   "cell_type": "code",
   "execution_count": null,
   "metadata": {
    "collapsed": true
   },
   "outputs": [],
   "source": []
  }
 ],
 "metadata": {
  "kernelspec": {
   "display_name": "Python 3",
   "language": "python",
   "name": "python3"
  },
  "language_info": {
   "codemirror_mode": {
    "name": "ipython",
    "version": 3
   },
   "file_extension": ".py",
   "mimetype": "text/x-python",
   "name": "python",
   "nbconvert_exporter": "python",
   "pygments_lexer": "ipython3",
   "version": "3.5.1"
  }
 },
 "nbformat": 4,
 "nbformat_minor": 0
}
